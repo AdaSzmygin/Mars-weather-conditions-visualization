{
 "cells": [
  {
   "cell_type": "code",
   "execution_count": 1,
   "id": "7b40b5cc",
   "metadata": {},
   "outputs": [],
   "source": [
    "import geopandas as gpd\n",
    "import pandas as pd\n",
    "import arcpy\n",
    "import numpy as np\n",
    "import matplotlib.pyplot as plt\n",
    "import cv2 as cv"
   ]
  },
  {
   "cell_type": "code",
   "execution_count": 2,
   "id": "36f7e0f5",
   "metadata": {},
   "outputs": [],
   "source": [
    "path = 'C:\\projects\\Mars_weather'"
   ]
  },
  {
   "cell_type": "code",
   "execution_count": 3,
   "id": "e8aa3bf4",
   "metadata": {},
   "outputs": [],
   "source": [
    "df = pd.read_csv(path + '\\df.csv')\n",
    "df = df.drop(columns = 'Unnamed: 0')"
   ]
  },
  {
   "cell_type": "code",
   "execution_count": 4,
   "id": "6b376d74",
   "metadata": {
    "scrolled": true
   },
   "outputs": [],
   "source": [
    "gdf = gpd.GeoDataFrame(df, geometry=gpd.points_from_xy(df.longitude, df.lattitude), crs='EPSG:4326')"
   ]
  },
  {
   "cell_type": "code",
   "execution_count": 5,
   "id": "b6b0a99e",
   "metadata": {
    "scrolled": true
   },
   "outputs": [
    {
     "data": {
      "text/html": [
       "<div>\n",
       "<style scoped>\n",
       "    .dataframe tbody tr th:only-of-type {\n",
       "        vertical-align: middle;\n",
       "    }\n",
       "\n",
       "    .dataframe tbody tr th {\n",
       "        vertical-align: top;\n",
       "    }\n",
       "\n",
       "    .dataframe thead th {\n",
       "        text-align: right;\n",
       "    }\n",
       "</style>\n",
       "<table border=\"1\" class=\"dataframe\">\n",
       "  <thead>\n",
       "    <tr style=\"text-align: right;\">\n",
       "      <th></th>\n",
       "      <th>ind</th>\n",
       "      <th>x</th>\n",
       "      <th>y</th>\n",
       "      <th>z</th>\n",
       "      <th>lattitude</th>\n",
       "      <th>longitude</th>\n",
       "      <th>atm_pressure</th>\n",
       "      <th>temperature</th>\n",
       "      <th>zonal_wind</th>\n",
       "      <th>meridional_wind</th>\n",
       "      <th>height</th>\n",
       "      <th>CO2</th>\n",
       "      <th>speed_wind</th>\n",
       "      <th>direction_wind</th>\n",
       "      <th>file_number</th>\n",
       "      <th>date</th>\n",
       "      <th>geometry</th>\n",
       "    </tr>\n",
       "  </thead>\n",
       "  <tbody>\n",
       "    <tr>\n",
       "      <th>0</th>\n",
       "      <td>0</td>\n",
       "      <td>-0.850651</td>\n",
       "      <td>0.525731</td>\n",
       "      <td>0.000000</td>\n",
       "      <td>0.000000</td>\n",
       "      <td>-58.282501</td>\n",
       "      <td>537.609497</td>\n",
       "      <td>-73.270102</td>\n",
       "      <td>-1.038340</td>\n",
       "      <td>0.048111</td>\n",
       "      <td>1020.968140</td>\n",
       "      <td>96.38</td>\n",
       "      <td>1.039454</td>\n",
       "      <td>357.347124</td>\n",
       "      <td>1</td>\n",
       "      <td>2021-01-01</td>\n",
       "      <td>POINT (-58.28250 0.00000)</td>\n",
       "    </tr>\n",
       "    <tr>\n",
       "      <th>1</th>\n",
       "      <td>1</td>\n",
       "      <td>0.850651</td>\n",
       "      <td>-0.525731</td>\n",
       "      <td>0.000000</td>\n",
       "      <td>0.000000</td>\n",
       "      <td>121.717003</td>\n",
       "      <td>572.585266</td>\n",
       "      <td>-73.694266</td>\n",
       "      <td>-1.378017</td>\n",
       "      <td>0.146964</td>\n",
       "      <td>333.579285</td>\n",
       "      <td>96.35</td>\n",
       "      <td>1.385832</td>\n",
       "      <td>353.912478</td>\n",
       "      <td>1</td>\n",
       "      <td>2021-01-01</td>\n",
       "      <td>POINT (121.71700 0.00000)</td>\n",
       "    </tr>\n",
       "    <tr>\n",
       "      <th>2</th>\n",
       "      <td>2</td>\n",
       "      <td>-0.850651</td>\n",
       "      <td>-0.525731</td>\n",
       "      <td>0.000000</td>\n",
       "      <td>0.000000</td>\n",
       "      <td>-121.717003</td>\n",
       "      <td>383.006866</td>\n",
       "      <td>-98.963583</td>\n",
       "      <td>-7.052595</td>\n",
       "      <td>6.349962</td>\n",
       "      <td>4859.559082</td>\n",
       "      <td>96.36</td>\n",
       "      <td>9.490053</td>\n",
       "      <td>318.001001</td>\n",
       "      <td>1</td>\n",
       "      <td>2021-01-01</td>\n",
       "      <td>POINT (-121.71700 0.00000)</td>\n",
       "    </tr>\n",
       "    <tr>\n",
       "      <th>3</th>\n",
       "      <td>3</td>\n",
       "      <td>-0.510382</td>\n",
       "      <td>0.052621</td>\n",
       "      <td>0.858337</td>\n",
       "      <td>59.130299</td>\n",
       "      <td>-84.113503</td>\n",
       "      <td>775.726196</td>\n",
       "      <td>-98.672263</td>\n",
       "      <td>6.694823</td>\n",
       "      <td>0.183575</td>\n",
       "      <td>-3258.103760</td>\n",
       "      <td>96.57</td>\n",
       "      <td>6.697339</td>\n",
       "      <td>181.570682</td>\n",
       "      <td>1</td>\n",
       "      <td>2021-01-01</td>\n",
       "      <td>POINT (-84.11350 59.13030)</td>\n",
       "    </tr>\n",
       "    <tr>\n",
       "      <th>4</th>\n",
       "      <td>4</td>\n",
       "      <td>-0.461270</td>\n",
       "      <td>0.053213</td>\n",
       "      <td>0.885663</td>\n",
       "      <td>62.333199</td>\n",
       "      <td>-83.419296</td>\n",
       "      <td>802.746765</td>\n",
       "      <td>-104.572943</td>\n",
       "      <td>7.749964</td>\n",
       "      <td>-0.290330</td>\n",
       "      <td>-3641.076904</td>\n",
       "      <td>96.68</td>\n",
       "      <td>7.755400</td>\n",
       "      <td>177.854582</td>\n",
       "      <td>1</td>\n",
       "      <td>2021-01-01</td>\n",
       "      <td>POINT (-83.41930 62.33320)</td>\n",
       "    </tr>\n",
       "  </tbody>\n",
       "</table>\n",
       "</div>"
      ],
      "text/plain": [
       "   ind         x         y         z  lattitude   longitude  atm_pressure  \\\n",
       "0    0 -0.850651  0.525731  0.000000   0.000000  -58.282501    537.609497   \n",
       "1    1  0.850651 -0.525731  0.000000   0.000000  121.717003    572.585266   \n",
       "2    2 -0.850651 -0.525731  0.000000   0.000000 -121.717003    383.006866   \n",
       "3    3 -0.510382  0.052621  0.858337  59.130299  -84.113503    775.726196   \n",
       "4    4 -0.461270  0.053213  0.885663  62.333199  -83.419296    802.746765   \n",
       "\n",
       "   temperature  zonal_wind  meridional_wind       height    CO2  speed_wind  \\\n",
       "0   -73.270102   -1.038340         0.048111  1020.968140  96.38    1.039454   \n",
       "1   -73.694266   -1.378017         0.146964   333.579285  96.35    1.385832   \n",
       "2   -98.963583   -7.052595         6.349962  4859.559082  96.36    9.490053   \n",
       "3   -98.672263    6.694823         0.183575 -3258.103760  96.57    6.697339   \n",
       "4  -104.572943    7.749964        -0.290330 -3641.076904  96.68    7.755400   \n",
       "\n",
       "   direction_wind  file_number        date                    geometry  \n",
       "0      357.347124            1  2021-01-01   POINT (-58.28250 0.00000)  \n",
       "1      353.912478            1  2021-01-01   POINT (121.71700 0.00000)  \n",
       "2      318.001001            1  2021-01-01  POINT (-121.71700 0.00000)  \n",
       "3      181.570682            1  2021-01-01  POINT (-84.11350 59.13030)  \n",
       "4      177.854582            1  2021-01-01  POINT (-83.41930 62.33320)  "
      ]
     },
     "execution_count": 5,
     "metadata": {},
     "output_type": "execute_result"
    }
   ],
   "source": [
    "gdf.head()"
   ]
  },
  {
   "cell_type": "code",
   "execution_count": 6,
   "id": "0b67962e",
   "metadata": {},
   "outputs": [],
   "source": [
    "gdf.to_file(path+r'\\huge_file.shp')"
   ]
  },
  {
   "cell_type": "code",
   "execution_count": 7,
   "id": "092a3a9f",
   "metadata": {},
   "outputs": [],
   "source": [
    "#splitting 1 file into many small ones\n",
    "arcpy.analysis.SplitByAttributes(path+r'\\huge_file.shp', path+r'\\files_shp', \"file_number\")"
   ]
  },
  {
   "cell_type": "code",
   "execution_count": 8,
   "id": "a59ff549",
   "metadata": {
    "scrolled": true
   },
   "outputs": [],
   "source": [
    "file_number = df['file_number'][-1:].item()"
   ]
  },
  {
   "cell_type": "code",
   "execution_count": 9,
   "id": "c819ff80",
   "metadata": {},
   "outputs": [],
   "source": [
    "#conversion to rasters\n",
    "for i in range(1, file_number):\n",
    "    out_raster_tem = arcpy.sa.Idw(path+r'\\files_shp'+'\\\\'+str(i)+'_0.shp','temperature', 0.76, 2)\n",
    "out_raster_tem.save(path + r\"\\rastry_temp2\\tem\"+str(i-1))"
   ]
  },
  {
   "cell_type": "code",
   "execution_count": 10,
   "id": "27d0f4cd",
   "metadata": {},
   "outputs": [],
   "source": [
    "out_raster_atm = arcpy.sa.Idw(path+r'\\files_shp'+'\\\\'+str(i)+'_0.shp','atm_pressure', 0.76, 2)\n",
    "out_raster_atm.save(path + r\"\\rastry_atm\\atm_\"+str(i-1))\n",
    "\n",
    "out_raster_co2 = arcpy.sa.Idw(path+r'\\files_shp'+'\\\\'+str(i)+'_0.shp', 'CO2',0.76, 2)\n",
    "out_raster_co2.save(path + r\"\\rastry_CO2\\co2_\"+str(i-1))"
   ]
  },
  {
   "cell_type": "code",
   "execution_count": 11,
   "id": "5ee883a5",
   "metadata": {},
   "outputs": [],
   "source": [
    "#determine min, max\n",
    "min_atm = min(gdf['atm_pressure'])\n",
    "max_atm = max(gdf['atm_pressure'])\n",
    "\n",
    "min_tem = min(gdf['temperature'])\n",
    "max_tem = max(gdf['temperature'])\n",
    "\n",
    "min_co2 = min(gdf['CO2'])\n",
    "max_co2 = max(gdf['CO2'])"
   ]
  },
  {
   "cell_type": "code",
   "execution_count": 12,
   "id": "6215d4dd",
   "metadata": {},
   "outputs": [],
   "source": [
    "#create list to Reclassify\n",
    "dif_tem = (max_tem - min_tem)/20\n",
    "dif_co2 = (max_co2 - min_co2)/20\n",
    "dif_atm = (max_atm - min_atm)/20\n",
    "\n",
    "list_tem = []\n",
    "list_co2 = []\n",
    "list_atm = []"
   ]
  },
  {
   "cell_type": "code",
   "execution_count": 13,
   "id": "63a187ec",
   "metadata": {},
   "outputs": [],
   "source": [
    "for i in range (20):\n",
    "    list_tem.append([min_tem+dif_tem*i, min_tem+dif_tem*(i+1), i+1])\n",
    "    list_co2.append([min_co2+dif_co2*i, min_co2+dif_co2*(i+1), i+1])\n",
    "    list_atm.append([min_atm+dif_atm*i, min_atm+dif_atm*(i+1), i+1])"
   ]
  },
  {
   "cell_type": "code",
   "execution_count": 14,
   "id": "87722b68",
   "metadata": {},
   "outputs": [],
   "source": [
    "#another way to list for CO2\n",
    "co = gdf['CO2']\n",
    "list_co2 = []\n",
    "for i in range(20):\n",
    "    list_co2.append([np.quantile(co, (i)/20), np.quantile(co, (i+1)/20), i+1])"
   ]
  },
  {
   "cell_type": "code",
   "execution_count": 15,
   "id": "9dab1121",
   "metadata": {},
   "outputs": [],
   "source": [
    "#Reclassify\n",
    "d_rec_tem = {}\n",
    "d_rec_co2 = {}\n",
    "d_rec_atm = {}\n",
    "for i in range(file_number-1):\n",
    "    d_rec_tem['rec_tem'+str(i)] = arcpy.sa.Reclassify(path + r'\\rastry_temp\\tem'+ str(i), \"VALUE\", arcpy.sa.RemapRange(list_tem), \"NODATA\")\n",
    "    d_rec_tem['rec_tem'+str(i)].save(path+r'\\reclassify_tem\\rec_tem'+str(i))\n",
    "    d_rec_co2['rec_co2_'+str(i)] = arcpy.sa.Reclassify(path + r'\\rastry_CO2\\co2_'+ str(i), \"VALUE\", arcpy.sa.RemapRange(list_co2), \"NODATA\")\n",
    "    d_rec_co2['rec_co2_'+str(i)].save(path+r'\\reclassify_CO2\\rec_co2_'+str(i))\n",
    "    d_rec_atm['rec_atm'+str(i)] = arcpy.sa.Reclassify(path + r'\\rastry_atm\\atm'+ str(i), \"VALUE\", arcpy.sa.RemapRange(list_arm), \"NODATA\")"
   ]
  },
  {
   "cell_type": "code",
   "execution_count": 16,
   "id": "fabfaa7e",
   "metadata": {},
   "outputs": [],
   "source": [
    "#conversion to polygons\n",
    "for i in range(file_number-1):\n",
    "    arcpy.conversion.RasterToPolygon(path+r'\\reclassify_tem\\rec_tem'+str(i),path+r'\\rastryPol_tem\\rasPol_tem'+str(i)+'.shp',\"SIMPLIFY\", \"VALUE\", \"SINGLE_OUTER_PART\", None)\n",
    "    arcpy.conversion.RasterToPolygon(path+r'\\reclassify_CO2\\rec_co2_'+str(i),path+r'\\rastryPol_CO2\\rasPol_co2_'+str(i)+'.shp',\"SIMPLIFY\", \"VALUE\", \"SINGLE_OUTER_PART\", None)\n",
    "    arcpy.conversion.RasterToPolygon(path+r'\\reclassify_atm\\rec_atm'+str(i),path+r'\\rastryPol_atm\\rasPol_atm'+str(i)+'.shp',\"SIMPLIFY\", \"VALUE\", \"SINGLE_OUTER_PART\", None)"
   ]
  },
  {
   "cell_type": "code",
   "execution_count": 17,
   "id": "d325cf7a",
   "metadata": {},
   "outputs": [],
   "source": [
    "#adding a date column\n",
    "for i in range(file_number-1):\n",
    "    arcpy.management.AddField(path+r'\\rastryPol_tem\\rasPol_tem'+str(i)+'.shp',\"date\", \"date\", None, None, None, '', \"NULLABLE\", \"NON_REQUIRED\", '')\n",
    "    arcpy.management.AddField(path+r'\\rastryPol_CO2\\rasPol_co2_'+str(i)+'.shp',\"date\", \"date\", None, None, None, '', \"NULLABLE\", \"NON_REQUIRED\", '')\n",
    "    arcpy.management.AddField(path+r'\\rastryPol_CO2v2\\rasPol_co2_'+str(i)+'.shp',\"date\", \"date\", None, None, None, '', \"NULLABLE\", \"NON_REQUIRED\", '')\n",
    "    arcpy.management.AddField(path+r'\\rastryPol_atm\\rasPol_atm'+str(i)+'.shp',\"date\", \"date\", None, None, None, '', \"NULLABLE\", \"NON_REQUIRED\", '')"
   ]
  },
  {
   "cell_type": "code",
   "execution_count": 18,
   "id": "154c0805",
   "metadata": {},
   "outputs": [],
   "source": [
    "#determining the value for column date\n",
    "for i in range(file_number-1):\n",
    "    d = datetime.datetime.strptime('2021 '+str(i+1), '%Y %j')\n",
    "    data = d.strftime('%Y-%m-%d')\n",
    "    data = \"'\"+data+\"'\"\n",
    "    arcpy.management.CalculateField(path+r'\\rastryPol_tem\\rasPol_tem'+str(i)+'.shp', \"date\", data, \"PYTHON3\", '', \"TEXT\")\n",
    "    arcpy.management.CalculateField(path+r'\\rastryPol_CO2\\rasPol_co2_'+str(i)+'.shp', \"date\", data, \"PYTHON3\", '', \"TEXT\")\n",
    "    arcpy.management.CalculateField(path+r'\\rastryPol_CO2v2\\rasPol_co2_'+str(i)+'.shp', \"date\", data, \"PYTHON3\", '', \"TEXT\")\n",
    "    arcpy.management.CalculateField(path+r'\\rastryPol_atm\\rasPol_atm'+str(i)+'.shp', \"date\", data, \"PYTHON3\", '', \"TEXT\")"
   ]
  },
  {
   "cell_type": "code",
   "execution_count": 19,
   "id": "78d97a47",
   "metadata": {},
   "outputs": [],
   "source": [
    "#values to functions Merge\n",
    "files_tem = ''\n",
    "files_CO2 = ''\n",
    "files_CO2v2 = ''\n",
    "files_atm = ''\n",
    "for i in range(file_number-1):\n",
    "    files_tem = files_tem + path+r'\\rastryPol_tem\\rasPol_tem'+str(i)+'.shp'\n",
    "    files_CO2 = files_CO2 + path+r'\\rastryPol_CO2\\rasPol_co2_'+str(i)+'.shp'\n",
    "    files_CO2v2 = files_CO2v2 + path+r'\\rastryPol_CO2v2\\rasPol_co2_'+str(i)+'.shp'\n",
    "    files_atm = files_atm + path+r'\\rastryPol_atm\\rasPol_atm'+str(i)+'.shp'\n",
    "    if i != file_number-2:\n",
    "        files_tem = files_tem + ';'\n",
    "        files_CO2 = files_CO2 + ';'\n",
    "        files_CO2v2 = files_CO2v2 + ';'\n",
    "        files_atm = files_atm + ';'"
   ]
  },
  {
   "cell_type": "code",
   "execution_count": 20,
   "id": "4ccdafff",
   "metadata": {},
   "outputs": [],
   "source": [
    "for i in range(file_number-1):\n",
    "    arcpy.management.Merge(files_tem, path+'\\merge_files\\merge_tem')\n",
    "    arcpy.management.Merge(files_CO2, path+'\\merge_files\\merge_CO2')\n",
    "    arcpy.management.Merge(files_CO2v2, path+'\\merge_files\\merge_CO2v2')\n",
    "    arcpy.management.Merge(files_atm, path+'\\merge_files\\merge_atm')"
   ]
  },
  {
   "cell_type": "code",
   "execution_count": 21,
   "id": "57f067a2",
   "metadata": {},
   "outputs": [],
   "source": [
    "#transformation of shp file into graphic files\n",
    "for k in range(file_number-1):\n",
    "    df = gpd.read_file(path+r\"\\rastryPol_oci\\rasPol_oci\"+str(k)+\".shp\")\n",
    "    \n",
    "    min_gr = min(df['gridcode'])\n",
    "    max_gr = max(df['gridcode'])\n",
    "\n",
    "    x = len(df)\n",
    "\n",
    "    if min_gr != 1:\n",
    "        for w in range(min_gr-1):\n",
    "        df2 = {'Id': x+w+1, 'gridcode': min_gr-w-1}\n",
    "        df = df.append(df2, ignore_index=True)\n",
    "\n",
    "    x = len(df)\n",
    "\n",
    "    if max_gr != 20:\n",
    "        for w in range(20-max_gr):\n",
    "            df2 = {'Id': x+w+1, 'gridcode': max_gr+w+1}\n",
    "            df = df.append(df2, ignore_index=True)\n",
    "\n",
    "    df.plot(column='gridcode', cmap='rainbow', edgecolor='grey', linewidth=0.5,figsize=(21, 11))\n",
    "\n",
    "    plt.axis('off')\n",
    "    plt.savefig(path+r'\\png_files\\file'+str(k)+'.png')\n",
    "\n",
    "    img = cv.imread(path+r'\\png_files\\file'+str(k)+'.png')\n",
    "\n",
    "    y = img.shape[0]\n",
    "    x = img.shape[1]\n",
    "\n",
    "    a = int(y / 2)\n",
    "\n",
    "    for j in range(x):\n",
    "        if (np.array_equal(img[a][j], [255, 255, 255])):\n",
    "            if (j < x / 2):\n",
    "                x_min = j\n",
    "            elif (j > x / 2):\n",
    "                x_max = j\n",
    "                break\n",
    "\n",
    "    b = int(x / 2)\n",
    "\n",
    "    for i in range(y):\n",
    "        if (np.array_equal(img[i][b], [255, 255, 255])):\n",
    "            if (i < y / 2):\n",
    "                y_min = i\n",
    "            elif (i > y / 2):\n",
    "                y_max = i\n",
    "                break\n",
    "\n",
    "    file = img[y_min:y_max, x_min:x_max]\n",
    "    if k < 10:\n",
    "        k = '00' + str(k)\n",
    "    elif k < 100:\n",
    "        k = '0' + str(k)\n",
    "    else:\n",
    "        k = str(k)\n",
    "\n",
    "    cv.imwrite(path+r'\\file'+str(k)+'.png', file)"
   ]
  }
 ],
 "metadata": {
  "kernelspec": {
   "display_name": "Python 3 (ipykernel)",
   "language": "python",
   "name": "python3"
  },
  "language_info": {
   "codemirror_mode": {
    "name": "ipython",
    "version": 3
   },
   "file_extension": ".py",
   "mimetype": "text/x-python",
   "name": "python",
   "nbconvert_exporter": "python",
   "pygments_lexer": "ipython3",
   "version": "3.10.9"
  }
 },
 "nbformat": 4,
 "nbformat_minor": 5
}
